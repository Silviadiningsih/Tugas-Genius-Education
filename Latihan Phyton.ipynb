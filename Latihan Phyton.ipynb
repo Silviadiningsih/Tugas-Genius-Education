{
 "cells": [
  {
   "cell_type": "code",
   "execution_count": 3,
   "id": "c99a8cbd",
   "metadata": {},
   "outputs": [],
   "source": [
    "def sapa_saya():\n",
    "    print(\"Perkenalkan nama saya Silvia, salam kenal\")\n",
    "    "
   ]
  },
  {
   "cell_type": "code",
   "execution_count": 4,
   "id": "a7ff456f",
   "metadata": {},
   "outputs": [
    {
     "name": "stdout",
     "output_type": "stream",
     "text": [
      "Perkenalkan nama saya Silvia, salam kenal\n"
     ]
    }
   ],
   "source": [
    "sapa_saya()"
   ]
  },
  {
   "cell_type": "code",
   "execution_count": 5,
   "id": "f83cd6ce",
   "metadata": {},
   "outputs": [
    {
     "name": "stdout",
     "output_type": "stream",
     "text": [
      "Luas segitiga adalah  17.5\n"
     ]
    }
   ],
   "source": [
    "def luas_segitiga():\n",
    "    alas=5\n",
    "    tinggi=7\n",
    "    luas=(alas*tinggi)/2\n",
    "    print(\"Luas segitiga adalah \", luas)\n",
    "    \n",
    "luas_segitiga()"
   ]
  },
  {
   "cell_type": "code",
   "execution_count": 7,
   "id": "a8ddb47c",
   "metadata": {},
   "outputs": [],
   "source": [
    "import csv\n",
    "import pandas\n",
    "import numpy"
   ]
  },
  {
   "cell_type": "code",
   "execution_count": 10,
   "id": "e61daa34",
   "metadata": {},
   "outputs": [
    {
     "name": "stdout",
     "output_type": "stream",
     "text": [
      "Lingkaran dengan jari-jari 14 memiliki keliling 87.92\n"
     ]
    }
   ],
   "source": [
    "def keliling_lingkaran(radius):\n",
    "    keliling = 2*3.14*radius\n",
    "    return keliling\n",
    "r=14\n",
    "kel=keliling_lingkaran(r)\n",
    "print('Lingkaran dengan jari-jari {} memiliki keliling {}'.format(r,kel))"
   ]
  },
  {
   "cell_type": "code",
   "execution_count": 11,
   "id": "1959294a",
   "metadata": {},
   "outputs": [
    {
     "name": "stdout",
     "output_type": "stream",
     "text": [
      "masukkan nilai= 9\n",
      "hasilnya adalah 18\n"
     ]
    }
   ],
   "source": [
    "def ceknilai(nilai):\n",
    "    if nilai %2 ==0:\n",
    "        nilai +=2\n",
    "    else:\n",
    "        nilai *=2\n",
    "        \n",
    "    return nilai\n",
    "\n",
    "angka = input(\"masukkan nilai= \")\n",
    "hasil = ceknilai(int(angka))\n",
    "\n",
    "print(\"hasilnya adalah {}\". format(hasil))"
   ]
  }
 ],
 "metadata": {
  "kernelspec": {
   "display_name": "Python 3 (ipykernel)",
   "language": "python",
   "name": "python3"
  },
  "language_info": {
   "codemirror_mode": {
    "name": "ipython",
    "version": 3
   },
   "file_extension": ".py",
   "mimetype": "text/x-python",
   "name": "python",
   "nbconvert_exporter": "python",
   "pygments_lexer": "ipython3",
   "version": "3.9.12"
  }
 },
 "nbformat": 4,
 "nbformat_minor": 5
}
